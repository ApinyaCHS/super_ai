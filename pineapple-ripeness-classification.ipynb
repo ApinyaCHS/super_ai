{
 "cells": [
  {
   "cell_type": "code",
   "execution_count": 1,
   "metadata": {
    "_cell_guid": "b1076dfc-b9ad-4769-8c92-a6c4dae69d19",
    "_uuid": "8f2839f25d086af736a60e9eeb907d3b93b6e0e5",
    "execution": {
     "iopub.execute_input": "2025-03-14T15:44:50.745809Z",
     "iopub.status.busy": "2025-03-14T15:44:50.745454Z",
     "iopub.status.idle": "2025-03-14T15:44:52.033146Z",
     "shell.execute_reply": "2025-03-14T15:44:52.031972Z",
     "shell.execute_reply.started": "2025-03-14T15:44:50.745783Z"
    },
    "trusted": true
   },
   "outputs": [],
   "source": [
    "import os\n",
    "import cv2\n",
    "import numpy as np\n",
    "from sklearn.model_selection import train_test_split\n",
    "from torch.utils.data import DataLoader\n",
    "import torch\n",
    "import torch.nn as nn\n",
    "import torchvision.models as models\n",
    "import torch.optim as optim\n",
    "from sklearn.metrics import f1_score\n",
    "import matplotlib.pyplot as plt\n",
    "import torch\n",
    "from sklearn.metrics import f1_score\n",
    "import pandas as pd"
   ]
  },
  {
   "cell_type": "markdown",
   "metadata": {},
   "source": [
    "# Load data"
   ]
  },
  {
   "cell_type": "code",
   "execution_count": 3,
   "metadata": {
    "execution": {
     "iopub.execute_input": "2025-03-14T15:44:52.050451Z",
     "iopub.status.busy": "2025-03-14T15:44:52.050158Z",
     "iopub.status.idle": "2025-03-14T15:45:05.881254Z",
     "shell.execute_reply": "2025-03-14T15:45:05.880338Z",
     "shell.execute_reply.started": "2025-03-14T15:44:52.050400Z"
    },
    "trusted": true
   },
   "outputs": [
    {
     "name": "stdout",
     "output_type": "stream",
     "text": [
      "Total images loaded: 2138\n",
      "Unique labels: {'4', '1', '0', '2', '5', '3'}\n"
     ]
    }
   ],
   "source": [
    "# Prepare lists to store images and their corresponding labels\n",
    "images = []\n",
    "labels = []\n",
    "\n",
    "# Loop over each subfolder\n",
    "for folder_name in folders:\n",
    "    folder_path = os.path.join(data_path, folder_name)\n",
    "    \n",
    "    # Loop over each file in the subfolder\n",
    "    for file_name in os.listdir(folder_path):\n",
    "        file_path = os.path.join(folder_path, file_name)\n",
    "        \n",
    "        # Check if the file is an image (by extension)\n",
    "        if file_path.lower().endswith(('.png', '.jpg', '.jpeg', '.bmp', '.gif')):\n",
    "            # Read the image using OpenCV\n",
    "            img = cv2.imread(file_path)\n",
    "            \n",
    "            # Optionally, convert BGR (OpenCV default) to RGB\n",
    "            # img = cv2.cvtColor(img, cv2.COLOR_BGR2RGB)\n",
    "            \n",
    "            # Append the image and label to their respective lists\n",
    "            images.append(img)\n",
    "            labels.append(folder_name)\n",
    "\n",
    "# Now, `images` contains all the loaded images,\n",
    "# and `labels` contains the corresponding folder names.\n",
    "print(f\"Total images loaded: {len(images)}\")\n",
    "print(f\"Unique labels: {set(labels)}\")"
   ]
  },
  {
   "cell_type": "code",
   "execution_count": 2,
   "metadata": {
    "execution": {
     "iopub.execute_input": "2025-03-14T15:44:52.035804Z",
     "iopub.status.busy": "2025-03-14T15:44:52.035182Z",
     "iopub.status.idle": "2025-03-14T15:44:52.047536Z",
     "shell.execute_reply": "2025-03-14T15:44:52.046368Z",
     "shell.execute_reply.started": "2025-03-14T15:44:52.035762Z"
    },
    "trusted": true
   },
   "outputs": [
    {
     "name": "stdout",
     "output_type": "stream",
     "text": [
      "['2', '5', '0', '3', '1', '4']\n"
     ]
    }
   ],
   "source": [
    "import os\n",
    "import cv2  # Make sure you have OpenCV installed: pip install opencv-python\n",
    "\n",
    "# Define the path to the main data folder\n",
    "data_path = '/kaggle/input/pineapple-ripeness-classification/train/train'\n",
    "\n",
    "# List all subfolders in the main folder\n",
    "folders = [f for f in os.listdir(data_path) \n",
    "           if os.path.isdir(os.path.join(data_path, f))]\n",
    "print(folders)\n",
    "\n"
   ]
  },
  {
   "cell_type": "markdown",
   "metadata": {},
   "source": [
    "# Train val split"
   ]
  },
  {
   "cell_type": "code",
   "execution_count": 4,
   "metadata": {
    "execution": {
     "iopub.execute_input": "2025-03-14T15:45:05.882798Z",
     "iopub.status.busy": "2025-03-14T15:45:05.882530Z",
     "iopub.status.idle": "2025-03-14T15:45:05.902565Z",
     "shell.execute_reply": "2025-03-14T15:45:05.901825Z",
     "shell.execute_reply.started": "2025-03-14T15:45:05.882776Z"
    },
    "trusted": true
   },
   "outputs": [
    {
     "name": "stdout",
     "output_type": "stream",
     "text": [
      "Total images: 2138\n",
      "Training set size: 1710\n",
      "val set size: 428\n",
      "Unique classes: {'4', '1', '0', '2', '5', '3'}\n"
     ]
    }
   ],
   "source": [
    "X_train, X_val, y_train, y_val = train_test_split(\n",
    "    images, \n",
    "    labels, \n",
    "    test_size=0.2, \n",
    "    stratify=labels, \n",
    "    random_state=42\n",
    ")\n",
    "\n",
    "print(\"Total images:\", len(images))\n",
    "print(\"Training set size:\", len(X_train))\n",
    "print(\"val set size:\", len(X_val))\n",
    "print(\"Unique classes:\", set(labels))"
   ]
  },
  {
   "cell_type": "markdown",
   "metadata": {},
   "source": [
    "# Check size of img"
   ]
  },
  {
   "cell_type": "code",
   "execution_count": 5,
   "metadata": {
    "execution": {
     "iopub.execute_input": "2025-03-14T15:45:05.903685Z",
     "iopub.status.busy": "2025-03-14T15:45:05.903361Z",
     "iopub.status.idle": "2025-03-14T15:45:05.926732Z",
     "shell.execute_reply": "2025-03-14T15:45:05.925873Z",
     "shell.execute_reply.started": "2025-03-14T15:45:05.903646Z"
    },
    "trusted": true
   },
   "outputs": [
    {
     "data": {
      "text/plain": [
       "(128, 128, 3)"
      ]
     },
     "execution_count": 5,
     "metadata": {},
     "output_type": "execute_result"
    }
   ],
   "source": [
    "images[0].shape"
   ]
  },
  {
   "cell_type": "markdown",
   "metadata": {},
   "source": [
    "# Create Dataset/ Dataloader"
   ]
  },
  {
   "cell_type": "code",
   "execution_count": 6,
   "metadata": {
    "execution": {
     "iopub.execute_input": "2025-03-14T15:45:05.927976Z",
     "iopub.status.busy": "2025-03-14T15:45:05.927711Z",
     "iopub.status.idle": "2025-03-14T15:45:12.621542Z",
     "shell.execute_reply": "2025-03-14T15:45:12.620883Z",
     "shell.execute_reply.started": "2025-03-14T15:45:05.927953Z"
    },
    "trusted": true
   },
   "outputs": [],
   "source": [
    "import torch\n",
    "from torch.utils.data import Dataset\n",
    "from PIL import Image\n",
    "import torchvision.transforms as transforms\n",
    "\n",
    "class CustomImageDataset(Dataset):\n",
    "    def __init__(self, images, labels, transform=None):\n",
    "        \"\"\"\n",
    "        images: list or array of image arrays (NumPy)\n",
    "        labels: list or array of label strings\n",
    "        transform: torchvision transforms (optional)\n",
    "        \"\"\"\n",
    "        self.images = images\n",
    "        self.labels = labels\n",
    "        self.transform = transform\n",
    "        # Map label names to integer indices\n",
    "        self.label_to_idx = {label: idx for idx, label in enumerate(sorted(set(labels)))}\n",
    "\n",
    "    def __len__(self):\n",
    "        return len(self.images)\n",
    "\n",
    "    def __getitem__(self, idx):\n",
    "        img = self.images[idx]\n",
    "        label_str = self.labels[idx]\n",
    "        label_idx = self.label_to_idx[label_str]\n",
    "\n",
    "        pil_img = Image.fromarray(img[..., ::-1])  # BGR->RGB while creating PIL image\n",
    "\n",
    "        if self.transform:\n",
    "            pil_img = self.transform(pil_img)\n",
    "\n",
    "        return pil_img, label_idx\n"
   ]
  },
  {
   "cell_type": "code",
   "execution_count": 7,
   "metadata": {
    "execution": {
     "iopub.execute_input": "2025-03-14T15:45:12.622574Z",
     "iopub.status.busy": "2025-03-14T15:45:12.622227Z",
     "iopub.status.idle": "2025-03-14T15:45:12.628760Z",
     "shell.execute_reply": "2025-03-14T15:45:12.627866Z",
     "shell.execute_reply.started": "2025-03-14T15:45:12.622552Z"
    },
    "trusted": true
   },
   "outputs": [],
   "source": [
    "# Transforms\n",
    "train_transform = transforms.Compose([\n",
    "    transforms.Resize((224, 224)),\n",
    "    transforms.ToTensor(),\n",
    "    transforms.Normalize(mean=[0.485, 0.456, 0.406],  # ImageNet means\n",
    "                         std=[0.229, 0.224, 0.225])   # ImageNet std\n",
    "])\n",
    "\n",
    "val_transform = transforms.Compose([\n",
    "    transforms.Resize((224, 224)),\n",
    "    transforms.ToTensor(),\n",
    "    transforms.Normalize(mean=[0.485, 0.456, 0.406],\n",
    "                         std=[0.229, 0.224, 0.225])\n",
    "])\n",
    "\n",
    "# Create Dataset objects\n",
    "train_dataset = CustomImageDataset(X_train, y_train, transform=train_transform)\n",
    "val_dataset  = CustomImageDataset(X_val,  y_val,  transform=val_transform)\n",
    "\n",
    "train_loader = DataLoader(train_dataset, batch_size=16, shuffle=True)\n",
    "val_loader  = DataLoader(val_dataset,  batch_size=16, shuffle=False)\n"
   ]
  },
  {
   "cell_type": "markdown",
   "metadata": {},
   "source": [
    "# Model"
   ]
  },
  {
   "cell_type": "code",
   "execution_count": 8,
   "metadata": {
    "execution": {
     "iopub.execute_input": "2025-03-14T15:45:12.629959Z",
     "iopub.status.busy": "2025-03-14T15:45:12.629665Z",
     "iopub.status.idle": "2025-03-14T15:45:14.054179Z",
     "shell.execute_reply": "2025-03-14T15:45:14.053178Z",
     "shell.execute_reply.started": "2025-03-14T15:45:12.629932Z"
    },
    "trusted": true
   },
   "outputs": [
    {
     "name": "stdout",
     "output_type": "stream",
     "text": [
      "Using device: cuda\n"
     ]
    },
    {
     "name": "stderr",
     "output_type": "stream",
     "text": [
      "/usr/local/lib/python3.10/dist-packages/torchvision/models/_utils.py:208: UserWarning: The parameter 'pretrained' is deprecated since 0.13 and may be removed in the future, please use 'weights' instead.\n",
      "  warnings.warn(\n",
      "/usr/local/lib/python3.10/dist-packages/torchvision/models/_utils.py:223: UserWarning: Arguments other than a weight enum or `None` for 'weights' are deprecated since 0.13 and may be removed in the future. The current behavior is equivalent to passing `weights=EfficientNet_V2_S_Weights.IMAGENET1K_V1`. You can also use `weights=EfficientNet_V2_S_Weights.DEFAULT` to get the most up-to-date weights.\n",
      "  warnings.warn(msg)\n",
      "Downloading: \"https://download.pytorch.org/models/efficientnet_v2_s-dd5fe13b.pth\" to /root/.cache/torch/hub/checkpoints/efficientnet_v2_s-dd5fe13b.pth\n",
      "100%|██████████| 82.7M/82.7M [00:00<00:00, 217MB/s]\n"
     ]
    }
   ],
   "source": [
    "device = torch.device('cuda' if torch.cuda.is_available() else 'cpu')\n",
    "print(\"Using device:\", device)\n",
    "\n",
    "\n",
    "model = models.efficientnet_v2_s(weights='DEFAULT')  \n",
    "\n",
    "num_features = model.classifier[1].in_features\n",
    "model.classifier[1] = nn.Linear(num_features, 6) # pineapple 6 classes\n",
    "#softmax = nn.Softmax(dim=1) --> to change to prob\n",
    "model = model.to(device)"
   ]
  },
  {
   "cell_type": "markdown",
   "metadata": {},
   "source": [
    "# Train"
   ]
  },
  {
   "cell_type": "code",
   "execution_count": 9,
   "metadata": {
    "execution": {
     "iopub.execute_input": "2025-03-14T15:45:14.057153Z",
     "iopub.status.busy": "2025-03-14T15:45:14.056887Z",
     "iopub.status.idle": "2025-03-14T15:45:14.063647Z",
     "shell.execute_reply": "2025-03-14T15:45:14.062853Z",
     "shell.execute_reply.started": "2025-03-14T15:45:14.057132Z"
    },
    "trusted": true
   },
   "outputs": [],
   "source": [
    "criterion = nn.CrossEntropyLoss()\n",
    "optimizer = optim.Adam(model.parameters(), lr=0.001)\n",
    "\n",
    "num_epochs = 100  # adjust as needed\n",
    "scheduler = optim.lr_scheduler.OneCycleLR(\n",
    "    optimizer,\n",
    "    max_lr=0.01,  # Peak LR\n",
    "    steps_per_epoch=len(train_loader),  # Number of batches per epoch\n",
    "    epochs=num_epochs,  # Total epochs\n",
    ")"
   ]
  },
  {
   "cell_type": "code",
   "execution_count": 10,
   "metadata": {
    "execution": {
     "iopub.execute_input": "2025-03-14T15:45:14.064979Z",
     "iopub.status.busy": "2025-03-14T15:45:14.064677Z",
     "iopub.status.idle": "2025-03-14T16:29:04.884500Z",
     "shell.execute_reply": "2025-03-14T16:29:04.883702Z",
     "shell.execute_reply.started": "2025-03-14T15:45:14.064942Z"
    },
    "trusted": true
   },
   "outputs": [
    {
     "name": "stdout",
     "output_type": "stream",
     "text": [
      "Epoch [1/100] - Train Loss: 0.5270 | Train Acc: 0.8187\n",
      "           val Loss: 0.3349 | val Acc: 0.8879 | F1 Macro: 0.4232\n",
      "save\n",
      "Epoch [2/100] - Train Loss: 0.3652 | Train Acc: 0.8690\n",
      "           val Loss: 0.3929 | val Acc: 0.8551 | F1 Macro: 0.3397\n",
      "Epoch [3/100] - Train Loss: 0.2568 | Train Acc: 0.9076\n",
      "           val Loss: 0.3616 | val Acc: 0.8879 | F1 Macro: 0.5226\n",
      "save\n",
      "Epoch [4/100] - Train Loss: 0.2141 | Train Acc: 0.9193\n",
      "           val Loss: 0.2628 | val Acc: 0.9136 | F1 Macro: 0.5861\n",
      "save\n",
      "Epoch [5/100] - Train Loss: 0.1820 | Train Acc: 0.9351\n",
      "           val Loss: 0.2384 | val Acc: 0.9299 | F1 Macro: 0.6985\n",
      "save\n",
      "Epoch [6/100] - Train Loss: 0.1477 | Train Acc: 0.9538\n",
      "           val Loss: 0.2500 | val Acc: 0.9276 | F1 Macro: 0.7059\n",
      "save\n",
      "Epoch [7/100] - Train Loss: 0.1674 | Train Acc: 0.9363\n",
      "           val Loss: 0.2471 | val Acc: 0.9065 | F1 Macro: 0.6903\n",
      "Epoch [8/100] - Train Loss: 0.0969 | Train Acc: 0.9602\n",
      "           val Loss: 0.2875 | val Acc: 0.9276 | F1 Macro: 0.6484\n",
      "Epoch [9/100] - Train Loss: 0.1241 | Train Acc: 0.9567\n",
      "           val Loss: 0.2354 | val Acc: 0.9229 | F1 Macro: 0.7323\n",
      "save\n",
      "Epoch [10/100] - Train Loss: 0.0874 | Train Acc: 0.9684\n",
      "           val Loss: 0.2417 | val Acc: 0.9229 | F1 Macro: 0.7461\n",
      "save\n",
      "Epoch [11/100] - Train Loss: 0.0400 | Train Acc: 0.9889\n",
      "           val Loss: 0.2292 | val Acc: 0.9252 | F1 Macro: 0.7366\n",
      "Epoch [12/100] - Train Loss: 0.0214 | Train Acc: 0.9918\n",
      "           val Loss: 0.2476 | val Acc: 0.9346 | F1 Macro: 0.7728\n",
      "save\n",
      "Epoch [13/100] - Train Loss: 0.0514 | Train Acc: 0.9819\n",
      "           val Loss: 0.2784 | val Acc: 0.9182 | F1 Macro: 0.7365\n",
      "Epoch [14/100] - Train Loss: 0.0795 | Train Acc: 0.9760\n",
      "           val Loss: 0.5428 | val Acc: 0.8271 | F1 Macro: 0.6449\n",
      "Epoch [15/100] - Train Loss: 0.0588 | Train Acc: 0.9801\n",
      "           val Loss: 0.2633 | val Acc: 0.9276 | F1 Macro: 0.6188\n",
      "Epoch [16/100] - Train Loss: 0.0477 | Train Acc: 0.9830\n",
      "           val Loss: 0.3338 | val Acc: 0.9322 | F1 Macro: 0.7068\n",
      "Epoch [17/100] - Train Loss: 0.0391 | Train Acc: 0.9901\n",
      "           val Loss: 0.3289 | val Acc: 0.9065 | F1 Macro: 0.7168\n",
      "Epoch [18/100] - Train Loss: 0.0219 | Train Acc: 0.9947\n",
      "           val Loss: 0.2429 | val Acc: 0.9276 | F1 Macro: 0.7716\n",
      "Epoch [19/100] - Train Loss: 0.0204 | Train Acc: 0.9936\n",
      "           val Loss: 0.3965 | val Acc: 0.9206 | F1 Macro: 0.7143\n",
      "Epoch [20/100] - Train Loss: 0.0334 | Train Acc: 0.9865\n",
      "           val Loss: 0.2591 | val Acc: 0.9393 | F1 Macro: 0.7725\n",
      "Epoch [21/100] - Train Loss: 0.0527 | Train Acc: 0.9865\n",
      "           val Loss: 0.2117 | val Acc: 0.9369 | F1 Macro: 0.8044\n",
      "save\n",
      "Epoch [22/100] - Train Loss: 0.0247 | Train Acc: 0.9947\n",
      "           val Loss: 0.2595 | val Acc: 0.9463 | F1 Macro: 0.7741\n",
      "Epoch [23/100] - Train Loss: 0.0167 | Train Acc: 0.9942\n",
      "           val Loss: 0.1862 | val Acc: 0.9439 | F1 Macro: 0.7769\n",
      "Epoch [24/100] - Train Loss: 0.0015 | Train Acc: 1.0000\n",
      "           val Loss: 0.1984 | val Acc: 0.9416 | F1 Macro: 0.8144\n",
      "save\n",
      "Epoch [25/100] - Train Loss: 0.0008 | Train Acc: 1.0000\n",
      "           val Loss: 0.1996 | val Acc: 0.9486 | F1 Macro: 0.8256\n",
      "save\n",
      "Epoch [26/100] - Train Loss: 0.0009 | Train Acc: 1.0000\n",
      "           val Loss: 0.2026 | val Acc: 0.9556 | F1 Macro: 0.8267\n",
      "save\n",
      "Epoch [27/100] - Train Loss: 0.0005 | Train Acc: 1.0000\n",
      "           val Loss: 0.2019 | val Acc: 0.9486 | F1 Macro: 0.8169\n",
      "Epoch [28/100] - Train Loss: 0.0002 | Train Acc: 1.0000\n",
      "           val Loss: 0.2111 | val Acc: 0.9486 | F1 Macro: 0.8199\n",
      "Epoch [29/100] - Train Loss: 0.0003 | Train Acc: 1.0000\n",
      "           val Loss: 0.2176 | val Acc: 0.9463 | F1 Macro: 0.8149\n",
      "Epoch [30/100] - Train Loss: 0.0003 | Train Acc: 1.0000\n",
      "           val Loss: 0.2368 | val Acc: 0.9463 | F1 Macro: 0.8035\n",
      "Epoch [31/100] - Train Loss: 0.0002 | Train Acc: 1.0000\n",
      "           val Loss: 0.2387 | val Acc: 0.9486 | F1 Macro: 0.8093\n",
      "Epoch [32/100] - Train Loss: 0.0198 | Train Acc: 0.9936\n",
      "           val Loss: 0.4002 | val Acc: 0.8995 | F1 Macro: 0.6797\n",
      "Epoch [33/100] - Train Loss: 0.1028 | Train Acc: 0.9649\n",
      "           val Loss: 0.2016 | val Acc: 0.9486 | F1 Macro: 0.8101\n",
      "Epoch [34/100] - Train Loss: 0.0569 | Train Acc: 0.9819\n",
      "           val Loss: 0.2699 | val Acc: 0.9229 | F1 Macro: 0.7585\n",
      "Epoch [35/100] - Train Loss: 0.0258 | Train Acc: 0.9953\n",
      "           val Loss: 0.2922 | val Acc: 0.9276 | F1 Macro: 0.7423\n",
      "Epoch [36/100] - Train Loss: 0.0218 | Train Acc: 0.9930\n",
      "           val Loss: 0.2492 | val Acc: 0.9393 | F1 Macro: 0.8028\n",
      "Epoch [37/100] - Train Loss: 0.0304 | Train Acc: 0.9901\n",
      "           val Loss: 0.2575 | val Acc: 0.9322 | F1 Macro: 0.7753\n",
      "Epoch [38/100] - Train Loss: 0.0219 | Train Acc: 0.9930\n",
      "           val Loss: 0.3194 | val Acc: 0.9322 | F1 Macro: 0.6923\n",
      "Epoch [39/100] - Train Loss: 0.0269 | Train Acc: 0.9877\n",
      "           val Loss: 0.2654 | val Acc: 0.9346 | F1 Macro: 0.7402\n",
      "Epoch [40/100] - Train Loss: 0.0233 | Train Acc: 0.9942\n",
      "           val Loss: 0.3066 | val Acc: 0.9252 | F1 Macro: 0.6955\n",
      "Epoch [41/100] - Train Loss: 0.0085 | Train Acc: 0.9971\n",
      "           val Loss: 0.2442 | val Acc: 0.9346 | F1 Macro: 0.7662\n",
      "Epoch [42/100] - Train Loss: 0.0053 | Train Acc: 0.9988\n",
      "           val Loss: 0.2462 | val Acc: 0.9533 | F1 Macro: 0.8353\n",
      "save\n",
      "Epoch [43/100] - Train Loss: 0.0030 | Train Acc: 0.9988\n",
      "           val Loss: 0.3333 | val Acc: 0.9393 | F1 Macro: 0.8165\n",
      "Epoch [44/100] - Train Loss: 0.0252 | Train Acc: 0.9942\n",
      "           val Loss: 0.4747 | val Acc: 0.9019 | F1 Macro: 0.6406\n",
      "Epoch [45/100] - Train Loss: 0.0242 | Train Acc: 0.9906\n",
      "           val Loss: 0.3265 | val Acc: 0.9322 | F1 Macro: 0.7903\n",
      "Epoch [46/100] - Train Loss: 0.0094 | Train Acc: 0.9971\n",
      "           val Loss: 0.3826 | val Acc: 0.9322 | F1 Macro: 0.7098\n",
      "Epoch [47/100] - Train Loss: 0.0159 | Train Acc: 0.9942\n",
      "           val Loss: 0.3101 | val Acc: 0.9346 | F1 Macro: 0.7240\n",
      "Epoch [48/100] - Train Loss: 0.0076 | Train Acc: 0.9977\n",
      "           val Loss: 0.2876 | val Acc: 0.9533 | F1 Macro: 0.8276\n",
      "Epoch [49/100] - Train Loss: 0.0033 | Train Acc: 0.9994\n",
      "           val Loss: 0.2945 | val Acc: 0.9322 | F1 Macro: 0.7526\n",
      "Epoch [50/100] - Train Loss: 0.0021 | Train Acc: 0.9994\n",
      "           val Loss: 0.5138 | val Acc: 0.9182 | F1 Macro: 0.7500\n",
      "Epoch [51/100] - Train Loss: 0.0069 | Train Acc: 0.9977\n",
      "           val Loss: 0.3933 | val Acc: 0.9159 | F1 Macro: 0.6887\n",
      "Epoch [52/100] - Train Loss: 0.0365 | Train Acc: 0.9883\n",
      "           val Loss: 0.3868 | val Acc: 0.9206 | F1 Macro: 0.7537\n",
      "Epoch [53/100] - Train Loss: 0.0124 | Train Acc: 0.9971\n",
      "           val Loss: 0.4690 | val Acc: 0.9182 | F1 Macro: 0.6955\n",
      "Epoch [54/100] - Train Loss: 0.0458 | Train Acc: 0.9871\n",
      "           val Loss: 0.3559 | val Acc: 0.9089 | F1 Macro: 0.7497\n",
      "Epoch [55/100] - Train Loss: 0.0290 | Train Acc: 0.9901\n",
      "           val Loss: 0.3997 | val Acc: 0.9229 | F1 Macro: 0.7153\n",
      "Epoch [56/100] - Train Loss: 0.0216 | Train Acc: 0.9953\n",
      "           val Loss: 0.2828 | val Acc: 0.9252 | F1 Macro: 0.7658\n",
      "Epoch [57/100] - Train Loss: 0.0019 | Train Acc: 1.0000\n",
      "           val Loss: 0.2766 | val Acc: 0.9369 | F1 Macro: 0.7850\n",
      "Epoch [58/100] - Train Loss: 0.0012 | Train Acc: 1.0000\n",
      "           val Loss: 0.2835 | val Acc: 0.9369 | F1 Macro: 0.7979\n",
      "Epoch [59/100] - Train Loss: 0.0005 | Train Acc: 1.0000\n",
      "           val Loss: 0.2945 | val Acc: 0.9369 | F1 Macro: 0.7842\n",
      "Epoch [60/100] - Train Loss: 0.0003 | Train Acc: 1.0000\n",
      "           val Loss: 0.3046 | val Acc: 0.9416 | F1 Macro: 0.7910\n",
      "Epoch [61/100] - Train Loss: 0.0003 | Train Acc: 1.0000\n",
      "           val Loss: 0.3308 | val Acc: 0.9393 | F1 Macro: 0.7887\n",
      "Epoch [62/100] - Train Loss: 0.0004 | Train Acc: 1.0000\n",
      "           val Loss: 0.2997 | val Acc: 0.9393 | F1 Macro: 0.7842\n",
      "Epoch [63/100] - Train Loss: 0.0003 | Train Acc: 1.0000\n",
      "           val Loss: 0.3082 | val Acc: 0.9369 | F1 Macro: 0.7685\n",
      "Epoch [64/100] - Train Loss: 0.0006 | Train Acc: 1.0000\n",
      "           val Loss: 0.3366 | val Acc: 0.9393 | F1 Macro: 0.7883\n",
      "Epoch [65/100] - Train Loss: 0.0001 | Train Acc: 1.0000\n",
      "           val Loss: 0.3851 | val Acc: 0.9369 | F1 Macro: 0.7764\n",
      "Epoch [66/100] - Train Loss: 0.0001 | Train Acc: 1.0000\n",
      "           val Loss: 0.3548 | val Acc: 0.9416 | F1 Macro: 0.7779\n",
      "Epoch [67/100] - Train Loss: 0.0001 | Train Acc: 1.0000\n",
      "           val Loss: 0.3327 | val Acc: 0.9393 | F1 Macro: 0.7882\n",
      "Epoch [68/100] - Train Loss: 0.0001 | Train Acc: 1.0000\n",
      "           val Loss: 0.3558 | val Acc: 0.9416 | F1 Macro: 0.7739\n",
      "Epoch [69/100] - Train Loss: 0.0000 | Train Acc: 1.0000\n",
      "           val Loss: 0.3551 | val Acc: 0.9416 | F1 Macro: 0.7898\n",
      "Epoch [70/100] - Train Loss: 0.0000 | Train Acc: 1.0000\n",
      "           val Loss: 0.3679 | val Acc: 0.9369 | F1 Macro: 0.7706\n",
      "Epoch [71/100] - Train Loss: 0.0001 | Train Acc: 1.0000\n",
      "           val Loss: 0.3532 | val Acc: 0.9416 | F1 Macro: 0.7739\n",
      "Epoch [72/100] - Train Loss: 0.0000 | Train Acc: 1.0000\n",
      "           val Loss: 0.3377 | val Acc: 0.9463 | F1 Macro: 0.7974\n",
      "Epoch [73/100] - Train Loss: 0.0000 | Train Acc: 1.0000\n",
      "           val Loss: 0.3416 | val Acc: 0.9463 | F1 Macro: 0.7937\n",
      "Epoch [74/100] - Train Loss: 0.0000 | Train Acc: 1.0000\n",
      "           val Loss: 0.3593 | val Acc: 0.9439 | F1 Macro: 0.7915\n",
      "Epoch [75/100] - Train Loss: 0.0000 | Train Acc: 1.0000\n",
      "           val Loss: 0.3550 | val Acc: 0.9393 | F1 Macro: 0.7723\n",
      "Epoch [76/100] - Train Loss: 0.0000 | Train Acc: 1.0000\n",
      "           val Loss: 0.3777 | val Acc: 0.9416 | F1 Macro: 0.7739\n",
      "Epoch [77/100] - Train Loss: 0.0000 | Train Acc: 1.0000\n",
      "           val Loss: 0.3798 | val Acc: 0.9416 | F1 Macro: 0.7892\n",
      "Epoch [78/100] - Train Loss: 0.0000 | Train Acc: 1.0000\n",
      "           val Loss: 0.3870 | val Acc: 0.9393 | F1 Macro: 0.7716\n",
      "Epoch [79/100] - Train Loss: 0.0001 | Train Acc: 1.0000\n",
      "           val Loss: 0.4099 | val Acc: 0.9393 | F1 Macro: 0.7722\n",
      "Epoch [80/100] - Train Loss: 0.0000 | Train Acc: 1.0000\n",
      "           val Loss: 0.4011 | val Acc: 0.9346 | F1 Macro: 0.7686\n",
      "Epoch [81/100] - Train Loss: 0.0000 | Train Acc: 1.0000\n",
      "           val Loss: 0.4096 | val Acc: 0.9416 | F1 Macro: 0.7898\n",
      "Epoch [82/100] - Train Loss: 0.0000 | Train Acc: 1.0000\n",
      "           val Loss: 0.3881 | val Acc: 0.9393 | F1 Macro: 0.7877\n",
      "Epoch [83/100] - Train Loss: 0.0000 | Train Acc: 1.0000\n",
      "           val Loss: 0.3868 | val Acc: 0.9369 | F1 Macro: 0.7701\n",
      "Epoch [84/100] - Train Loss: 0.0048 | Train Acc: 0.9977\n",
      "           val Loss: 0.8844 | val Acc: 0.8949 | F1 Macro: 0.6850\n",
      "Epoch [85/100] - Train Loss: 0.1558 | Train Acc: 0.9544\n",
      "           val Loss: 0.2919 | val Acc: 0.9019 | F1 Macro: 0.6422\n",
      "Epoch [86/100] - Train Loss: 0.0515 | Train Acc: 0.9825\n",
      "           val Loss: 0.3225 | val Acc: 0.9206 | F1 Macro: 0.7252\n",
      "Epoch [87/100] - Train Loss: 0.0280 | Train Acc: 0.9918\n",
      "           val Loss: 0.3916 | val Acc: 0.9182 | F1 Macro: 0.7382\n",
      "Epoch [88/100] - Train Loss: 0.0207 | Train Acc: 0.9942\n",
      "           val Loss: 0.2928 | val Acc: 0.9182 | F1 Macro: 0.6840\n",
      "Epoch [89/100] - Train Loss: 0.0083 | Train Acc: 0.9971\n",
      "           val Loss: 0.3309 | val Acc: 0.9369 | F1 Macro: 0.7646\n",
      "Epoch [90/100] - Train Loss: 0.0016 | Train Acc: 1.0000\n",
      "           val Loss: 0.3065 | val Acc: 0.9439 | F1 Macro: 0.7909\n",
      "Epoch [91/100] - Train Loss: 0.0005 | Train Acc: 1.0000\n",
      "           val Loss: 0.3196 | val Acc: 0.9439 | F1 Macro: 0.7887\n",
      "Epoch [92/100] - Train Loss: 0.0005 | Train Acc: 1.0000\n",
      "           val Loss: 0.3253 | val Acc: 0.9509 | F1 Macro: 0.8172\n",
      "Epoch [93/100] - Train Loss: 0.0004 | Train Acc: 1.0000\n",
      "           val Loss: 0.3423 | val Acc: 0.9463 | F1 Macro: 0.7914\n",
      "Epoch [94/100] - Train Loss: 0.0002 | Train Acc: 1.0000\n",
      "           val Loss: 0.3688 | val Acc: 0.9416 | F1 Macro: 0.7875\n",
      "Epoch [95/100] - Train Loss: 0.0002 | Train Acc: 1.0000\n",
      "           val Loss: 0.3363 | val Acc: 0.9509 | F1 Macro: 0.8033\n",
      "Epoch [96/100] - Train Loss: 0.0130 | Train Acc: 0.9971\n",
      "           val Loss: 0.3696 | val Acc: 0.9299 | F1 Macro: 0.7048\n",
      "Epoch [97/100] - Train Loss: 0.0312 | Train Acc: 0.9871\n",
      "           val Loss: 0.4377 | val Acc: 0.8902 | F1 Macro: 0.5657\n",
      "Epoch [98/100] - Train Loss: 0.0281 | Train Acc: 0.9901\n",
      "           val Loss: 0.2545 | val Acc: 0.9346 | F1 Macro: 0.7556\n",
      "Epoch [99/100] - Train Loss: 0.0337 | Train Acc: 0.9918\n",
      "           val Loss: 0.3144 | val Acc: 0.9229 | F1 Macro: 0.7276\n",
      "Epoch [100/100] - Train Loss: 0.0132 | Train Acc: 0.9942\n",
      "           val Loss: 0.3237 | val Acc: 0.9322 | F1 Macro: 0.6381\n"
     ]
    }
   ],
   "source": [
    "best_val_loss = float('inf')\n",
    "best_f1 = float('-inf')\n",
    "\n",
    "train_losses = []\n",
    "val_losses = []\n",
    "train_accuracies = []\n",
    "val_accuracies = []\n",
    "\n",
    "for epoch in range(num_epochs):\n",
    "    #################\n",
    "    #  TRAIN PHASE  #\n",
    "    #################\n",
    "    model.train()\n",
    "    running_loss = 0.0\n",
    "    correct = 0\n",
    "    total = 0\n",
    "    \n",
    "    for images_batch, labels_batch in train_loader:\n",
    "        images_batch = images_batch.to(device)\n",
    "        labels_batch = labels_batch.to(device)\n",
    "\n",
    "        optimizer.zero_grad()\n",
    "        outputs = model(images_batch)\n",
    "        loss = criterion(outputs, labels_batch)\n",
    "        loss.backward()\n",
    "        optimizer.step()\n",
    "\n",
    "        running_loss += loss.item() * images_batch.size(0)\n",
    "\n",
    "        _, predicted = torch.max(outputs, 1)\n",
    "        correct += (predicted == labels_batch).sum().item()\n",
    "        total += labels_batch.size(0)\n",
    "\n",
    "    epoch_loss = running_loss / total\n",
    "    epoch_acc = correct / total\n",
    "    \n",
    "    # Store train loss & accuracy\n",
    "    train_losses.append(epoch_loss)\n",
    "    train_accuracies.append(epoch_acc)\n",
    "    \n",
    "    print(f\"Epoch [{epoch+1}/{num_epochs}] - \"\n",
    "          f\"Train Loss: {epoch_loss:.4f} | Train Acc: {epoch_acc:.4f}\")\n",
    "    \n",
    "    ###############\n",
    "    #  VAL PHASE  #\n",
    "    ###############\n",
    "    model.eval()\n",
    "    val_loss = 0.0\n",
    "    val_correct = 0\n",
    "    val_total = 0\n",
    "    \n",
    "    # Lists to accumulate predictions & labels for F1 calculation\n",
    "    all_preds = []\n",
    "    all_labels = []\n",
    "\n",
    "    with torch.no_grad():\n",
    "        for images_batch, labels_batch in val_loader:\n",
    "            images_batch = images_batch.to(device)\n",
    "            labels_batch = labels_batch.to(device)\n",
    "            \n",
    "            outputs = model(images_batch)\n",
    "            loss = criterion(outputs, labels_batch)\n",
    "\n",
    "            val_loss += loss.item() * images_batch.size(0)\n",
    "\n",
    "            _, predicted = torch.max(outputs, 1)\n",
    "            val_correct += (predicted == labels_batch).sum().item()\n",
    "            val_total += labels_batch.size(0)\n",
    "            \n",
    "            # Collect predictions and labels for F1\n",
    "            all_preds.extend(predicted.cpu().numpy())\n",
    "            all_labels.extend(labels_batch.cpu().numpy())\n",
    "    \n",
    "    val_loss_epoch = val_loss / val_total\n",
    "    val_acc = val_correct / val_total\n",
    "\n",
    "    # Store val loss & accuracy\n",
    "    val_losses.append(val_loss_epoch)\n",
    "    val_accuracies.append(val_acc)\n",
    "    \n",
    "    # Compute F1 (macro)\n",
    "    f1_macro = f1_score(all_labels, all_preds, average='macro')\n",
    "\n",
    "\n",
    "\n",
    "    print(f\"           val Loss: {val_loss_epoch:.4f} | \"\n",
    "          f\"val Acc: {val_acc:.4f} | \"\n",
    "          f\"F1 Macro: {f1_macro:.4f}\")\n",
    "    # Save the best model based on val loss\n",
    "    if f1_macro > best_f1:\n",
    "        best_f1 = f1_macro\n",
    "        print('save')\n",
    "        torch.save(model.state_dict(), 'best_pine_class_efficientv2_L.pth')\n",
    "\n",
    "# ---- End of Training Loop ----"
   ]
  },
  {
   "cell_type": "code",
   "execution_count": 11,
   "metadata": {
    "execution": {
     "iopub.execute_input": "2025-03-14T16:29:04.885856Z",
     "iopub.status.busy": "2025-03-14T16:29:04.885599Z",
     "iopub.status.idle": "2025-03-14T16:29:05.406788Z",
     "shell.execute_reply": "2025-03-14T16:29:05.405960Z",
     "shell.execute_reply.started": "2025-03-14T16:29:04.885833Z"
    },
    "trusted": true
   },
   "outputs": [
    {
     "data": {
      "image/png": "[encoded data removed]",
      "text/plain": [
       "<Figure size 1200x500 with 2 Axes>"
      ]
     },
     "metadata": {},
     "output_type": "display_data"
    }
   ],
   "source": [
    "epochs_range = range(1, num_epochs + 1)\n",
    "\n",
    "plt.figure(figsize=(12, 5))\n",
    "\n",
    "# Plot losses\n",
    "plt.subplot(1, 2, 1)\n",
    "plt.plot(epochs_range, train_losses, label='Train Loss')\n",
    "plt.plot(epochs_range, val_losses, label='Val Loss')\n",
    "plt.title('Train & Validation Loss')\n",
    "plt.xlabel('Epoch')\n",
    "plt.ylabel('Loss')\n",
    "plt.legend()\n",
    "\n",
    "# Plot accuracies\n",
    "plt.subplot(1, 2, 2)\n",
    "plt.plot(epochs_range, train_accuracies, label='Train Acc')\n",
    "plt.plot(epochs_range, val_accuracies, label='Val Acc')\n",
    "plt.title('Train & Validation Accuracy')\n",
    "plt.xlabel('Epoch')\n",
    "plt.ylabel('Accuracy')\n",
    "plt.legend()\n",
    "\n",
    "plt.show()"
   ]
  },
  {
   "cell_type": "markdown",
   "metadata": {},
   "source": [
    "# Test"
   ]
  },
  {
   "cell_type": "code",
   "execution_count": 23,
   "metadata": {
    "execution": {
     "iopub.execute_input": "2025-03-14T16:32:43.101615Z",
     "iopub.status.busy": "2025-03-14T16:32:43.101277Z",
     "iopub.status.idle": "2025-03-14T16:32:43.105934Z",
     "shell.execute_reply": "2025-03-14T16:32:43.105093Z",
     "shell.execute_reply.started": "2025-03-14T16:32:43.101585Z"
    },
    "trusted": true
   },
   "outputs": [],
   "source": [
    "test_path = '/kaggle/input/pineapple-ripeness-classification/test/test'\n",
    "\n",
    "# List all subfolders in the main folder\n",
    "file_paths = [f for f in os.listdir(test_path)]\n"
   ]
  },
  {
   "cell_type": "code",
   "execution_count": null,
   "metadata": {
    "execution": {
     "iopub.execute_input": "2025-03-14T16:32:45.791378Z",
     "iopub.status.busy": "2025-03-14T16:32:45.791058Z",
     "iopub.status.idle": "2025-03-14T16:32:46.663517Z",
     "shell.execute_reply": "2025-03-14T16:32:46.662695Z",
     "shell.execute_reply.started": "2025-03-14T16:32:45.791349Z"
    },
    "trusted": true
   },
   "outputs": [
    {
     "name": "stdout",
     "output_type": "stream",
     "text": [
      "Total images loaded: 535\n",
      "Unique labels: {0}\n"
     ]
    }
   ],
   "source": [
    "# Prepare lists to store images and their corresponding labels\n",
    "images_test = []\n",
    "file_name_test = []\n",
    "\n",
    "labels_test = [0]*535 #pseudo label\n",
    "    \n",
    "# Loop over each file in the subfolder\n",
    "for file_name in file_paths:\n",
    "    file_path = os.path.join(test_path, file_name)\n",
    "    file_name_test.append(file_name)\n",
    "    # Check if the file is an image (by extension)\n",
    "    if file_path.lower().endswith(('.png', '.jpg', '.jpeg', '.bmp', '.gif')):\n",
    "        # Read the image using OpenCV\n",
    "        img = cv2.imread(file_path)\n",
    "\n",
    "        \n",
    "        # have to convert BGR (OpenCV default) to RGB\n",
    "        # img = cv2.cvtColor(img, cv2.COLOR_BGR2RGB)\n",
    "        \n",
    "        # Append the image and label to their respective lists\n",
    "        images_test.append(img)\n",
    "\n",
    "# Now, `images` contains all the loaded images,\n",
    "# and `labels` contains the corresponding folder names.\n",
    "print(f\"Total images loaded: {len(images_test)}\")\n",
    "print(f\"Unique labels: {set(labels_test)}\")"
   ]
  },
  {
   "cell_type": "code",
   "execution_count": 25,
   "metadata": {
    "execution": {
     "iopub.execute_input": "2025-03-14T16:32:50.780572Z",
     "iopub.status.busy": "2025-03-14T16:32:50.780244Z",
     "iopub.status.idle": "2025-03-14T16:32:50.785570Z",
     "shell.execute_reply": "2025-03-14T16:32:50.784786Z",
     "shell.execute_reply.started": "2025-03-14T16:32:50.780543Z"
    },
    "trusted": true
   },
   "outputs": [
    {
     "data": {
      "text/plain": [
       "535"
      ]
     },
     "execution_count": 25,
     "metadata": {},
     "output_type": "execute_result"
    }
   ],
   "source": [
    "len(labels_test)"
   ]
  },
  {
   "cell_type": "code",
   "execution_count": 26,
   "metadata": {
    "execution": {
     "iopub.execute_input": "2025-03-14T16:32:53.102852Z",
     "iopub.status.busy": "2025-03-14T16:32:53.102566Z",
     "iopub.status.idle": "2025-03-14T16:32:53.676316Z",
     "shell.execute_reply": "2025-03-14T16:32:53.675497Z",
     "shell.execute_reply.started": "2025-03-14T16:32:53.102830Z"
    },
    "trusted": true
   },
   "outputs": [
    {
     "name": "stderr",
     "output_type": "stream",
     "text": [
      "<ipython-input-26-1f6a6dc21ab4>:11: FutureWarning: You are using `torch.load` with `weights_only=False` (the current default value), which uses the default pickle module implicitly. It is possible to construct malicious pickle data which will execute arbitrary code during unpickling (See https://github.com/pytorch/pytorch/blob/main/SECURITY.md#untrusted-models for more details). In a future release, the default value for `weights_only` will be flipped to `True`. This limits the functions that could be executed during unpickling. Arbitrary objects will no longer be allowed to be loaded via this mode unless they are explicitly allowlisted by the user via `torch.serialization.add_safe_globals`. We recommend you start setting `weights_only=True` for any use case where you don't have full control of the loaded file. Please open an issue on GitHub for any issues related to this experimental feature.\n",
      "  model.load_state_dict(torch.load('/kaggle/working/best_pine_class.pth'))\n"
     ]
    },
    {
     "data": {
      "text/plain": [
       "<All keys matched successfully>"
      ]
     },
     "execution_count": 26,
     "metadata": {},
     "output_type": "execute_result"
    }
   ],
   "source": [
    "model = models.efficientnet_v2_s(pretrained=False)\n",
    "model.classifier[1] = nn.Linear(num_features, 6)\n",
    "model.to(device)\n",
    "\n",
    "\n",
    "# 2) Load the saved \"best\" weights from the training phase\n",
    "model.load_state_dict(torch.load('/kaggle/working/best_pine_class.pth'))"
   ]
  },
  {
   "cell_type": "code",
   "execution_count": 27,
   "metadata": {
    "execution": {
     "iopub.execute_input": "2025-03-14T16:32:56.980771Z",
     "iopub.status.busy": "2025-03-14T16:32:56.980453Z",
     "iopub.status.idle": "2025-03-14T16:32:56.984875Z",
     "shell.execute_reply": "2025-03-14T16:32:56.984071Z",
     "shell.execute_reply.started": "2025-03-14T16:32:56.980742Z"
    },
    "trusted": true
   },
   "outputs": [],
   "source": [
    "test_dataset  = CustomImageDataset(images_test,  labels_test,  transform=val_transform)\n",
    "test_loader  = DataLoader(test_dataset,  batch_size=16, shuffle=False)"
   ]
  },
  {
   "cell_type": "code",
   "execution_count": 28,
   "metadata": {
    "execution": {
     "iopub.execute_input": "2025-03-14T16:33:00.741671Z",
     "iopub.status.busy": "2025-03-14T16:33:00.741344Z",
     "iopub.status.idle": "2025-03-14T16:33:00.746567Z",
     "shell.execute_reply": "2025-03-14T16:33:00.745824Z",
     "shell.execute_reply.started": "2025-03-14T16:33:00.741646Z"
    },
    "trusted": true
   },
   "outputs": [
    {
     "data": {
      "text/plain": [
       "535"
      ]
     },
     "execution_count": 28,
     "metadata": {},
     "output_type": "execute_result"
    }
   ],
   "source": [
    "len(test_loader)\n",
    "len(labels_test)"
   ]
  },
  {
   "cell_type": "code",
   "execution_count": 29,
   "metadata": {
    "execution": {
     "iopub.execute_input": "2025-03-14T16:33:02.820895Z",
     "iopub.status.busy": "2025-03-14T16:33:02.820603Z",
     "iopub.status.idle": "2025-03-14T16:33:05.338163Z",
     "shell.execute_reply": "2025-03-14T16:33:05.337468Z",
     "shell.execute_reply.started": "2025-03-14T16:33:02.820873Z"
    },
    "trusted": true
   },
   "outputs": [
    {
     "name": "stdout",
     "output_type": "stream",
     "text": [
      "Test Loss: 2.0730 | Test Acc: 0.7664 | F1 Macro: 0.1446\n",
      "Predictions saved to test_predictions.csv\n"
     ]
    }
   ],
   "source": [
    "model.eval()\n",
    "test_loss = 0.0\n",
    "test_correct = 0\n",
    "test_total = 0\n",
    "\n",
    "all_preds = []\n",
    "all_labels = []\n",
    "\n",
    "with torch.no_grad():\n",
    "    for images_batch, labels_batch in test_loader:\n",
    "        images_batch = images_batch.to(device)\n",
    "        labels_batch = labels_batch.to(device)\n",
    "        \n",
    "        # Forward pass\n",
    "        outputs = model(images_batch)\n",
    "        \n",
    "        # Compute test loss\n",
    "        loss = criterion(outputs, labels_batch)\n",
    "        test_loss += loss.item() * images_batch.size(0)\n",
    "        \n",
    "        # Predictions\n",
    "        _, predicted = torch.max(outputs, 1)\n",
    "        test_correct += (predicted == labels_batch).sum().item()\n",
    "        test_total += labels_batch.size(0)\n",
    "\n",
    "        # Collect for metrics and CSV\n",
    "        all_preds.extend(predicted.cpu().numpy())\n",
    "        all_labels.extend(labels_batch.cpu().numpy())\n",
    "\n",
    "# Final test metrics\n",
    "test_loss_epoch = test_loss / test_total\n",
    "test_acc = test_correct / test_total\n",
    "test_f1_macro = f1_score(all_labels, all_preds, average='macro')\n",
    "\n",
    "print(f\"Test Loss: {test_loss_epoch:.4f} | \"\n",
    "      f\"Test Acc: {test_acc:.4f} | \"\n",
    "      f\"F1 Macro: {test_f1_macro:.4f}\")\n",
    "\n",
    "#  Save predictions to CSV\n",
    "df = pd.DataFrame({'FileName': file_name_test, \n",
    "                   'Class': all_preds})\n",
    "df.to_csv('test_predictions.csv', index=False)\n",
    "\n",
    "print(\"Predictions saved to test_predictions.csv\")"
   ]
  },
  {
   "cell_type": "markdown",
   "metadata": {},
   "source": []
  },
  {
   "cell_type": "markdown",
   "metadata": {},
   "source": [
    "# Remark\n",
    "> Test Loss: 2.0730 | Test Acc: 0.7664 | F1 Macro: 0.1446 are not necessary because it calculate from my assumption that all test dataset is in class 0 (You can see its in code cell 24)"
   ]
  }
 ],
 "metadata": {
  "kaggle": {
   "accelerator": "nvidiaTeslaT4",
   "dataSources": [
    {
     "databundleVersionId": 11381306,
     "sourceId": 94794,
     "sourceType": "competition"
    }
   ],
   "dockerImageVersionId": 30918,
   "isGpuEnabled": true,
   "isInternetEnabled": true,
   "language": "python",
   "sourceType": "notebook"
  },
  "kernelspec": {
   "display_name": "Python 3",
   "language": "python",
   "name": "python3"
  },
  "language_info": {
   "codemirror_mode": {
    "name": "ipython",
    "version": 3
   },
   "file_extension": ".py",
   "mimetype": "text/x-python",
   "name": "python",
   "nbconvert_exporter": "python",
   "pygments_lexer": "ipython3",
   "version": "3.10.12"
  }
 },
 "nbformat": 4,
 "nbformat_minor": 4
}
